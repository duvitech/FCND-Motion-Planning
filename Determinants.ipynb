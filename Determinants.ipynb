{
 "cells": [
  {
   "cell_type": "code",
   "execution_count": 1,
   "metadata": {},
   "outputs": [
    {
     "name": "stdout",
     "output_type": "stream",
     "text": [
      "-1.1102230246251573e-16\n"
     ]
    }
   ],
   "source": [
    "# Import numpy\n",
    "import numpy as np\n",
    "\n",
    "# Define some 2D points\n",
    "p1 = np.array([1, 2])\n",
    "p2 = np.array([2, 3])\n",
    "p3 = np.array([3, 4])\n",
    "\n",
    "# Define a simple function to add a z coordinate of 1\n",
    "def point(p):\n",
    "    return np.array([p[0], p[1], 1.])\n",
    "\n",
    "# Add points as rows in a matrix\n",
    "mat = np.vstack((point(p1), point(p2), point(p3)))\n",
    "# Compute and print the determinant of the matrix\n",
    "det = np.linalg.det(mat)\n",
    "print(det)"
   ]
  },
  {
   "cell_type": "code",
   "execution_count": 2,
   "metadata": {},
   "outputs": [
    {
     "name": "stdout",
     "output_type": "stream",
     "text": [
      "0.008989000000000372\n"
     ]
    }
   ],
   "source": [
    "# Define some 2D points\n",
    "p1 = np.array([1.001, 2.002])\n",
    "p2 = np.array([1.999, 3.001])\n",
    "p3 = np.array([2.99, 4.002])\n",
    "\n",
    "# Add points as rows in a matrix\n",
    "mat = np.vstack((point(p1), point(p2), point(p3)))\n",
    "# Compute and print the determinant of the matrix\n",
    "det = np.linalg.det(mat)\n",
    "print(det)"
   ]
  },
  {
   "cell_type": "code",
   "execution_count": 3,
   "metadata": {},
   "outputs": [],
   "source": [
    "collinear = False\n",
    "epsilon = 1e-2\n",
    "# Compare the absolute value of the determinant with epsilon\n",
    "if np.abs(det) < epsilon:\n",
    "    collinear = True"
   ]
  },
  {
   "cell_type": "code",
   "execution_count": null,
   "metadata": {},
   "outputs": [],
   "source": []
  }
 ],
 "metadata": {
  "kernelspec": {
   "display_name": "Python 3",
   "language": "python",
   "name": "python3"
  },
  "language_info": {
   "codemirror_mode": {
    "name": "ipython",
    "version": 3
   },
   "file_extension": ".py",
   "mimetype": "text/x-python",
   "name": "python",
   "nbconvert_exporter": "python",
   "pygments_lexer": "ipython3",
   "version": "3.6.3"
  }
 },
 "nbformat": 4,
 "nbformat_minor": 2
}
