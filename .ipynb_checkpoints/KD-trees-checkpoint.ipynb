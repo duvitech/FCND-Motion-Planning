{
 "cells": [
  {
   "cell_type": "code",
   "execution_count": 1,
   "metadata": {},
   "outputs": [],
   "source": [
    "from sklearn.neighbors import KDTree\n",
    "import numpy as np\n"
   ]
  },
  {
   "cell_type": "code",
   "execution_count": 2,
   "metadata": {},
   "outputs": [
    {
     "name": "stdout",
     "output_type": "stream",
     "text": [
      "[0 3 1]\n"
     ]
    }
   ],
   "source": [
    "# Generate some random 3-dimensional points\n",
    "np.random.seed(0)\n",
    "points = np.random.random((10, 3))  # 10 points in 3 dimensions\n",
    "# Cast points into a KDTree data structure\n",
    "tree = KDTree(points)              \n",
    "# Extract indices of 3 closest points\n",
    "# Note: need to cast search point as a list \n",
    "# and return 0th element only to get back list of indices\n",
    "idxs = tree.query([points[0]], k=3, return_distance=False)[0]              \n",
    "# indices of 3 closest neighbors (will vary due to random sample)\n",
    "print(idxs) "
   ]
  },
  {
   "cell_type": "code",
   "execution_count": null,
   "metadata": {},
   "outputs": [],
   "source": []
  }
 ],
 "metadata": {
  "kernelspec": {
   "display_name": "Python 3",
   "language": "python",
   "name": "python3"
  },
  "language_info": {
   "codemirror_mode": {
    "name": "ipython",
    "version": 3
   },
   "file_extension": ".py",
   "mimetype": "text/x-python",
   "name": "python",
   "nbconvert_exporter": "python",
   "pygments_lexer": "ipython3",
   "version": "3.6.3"
  }
 },
 "nbformat": 4,
 "nbformat_minor": 2
}
